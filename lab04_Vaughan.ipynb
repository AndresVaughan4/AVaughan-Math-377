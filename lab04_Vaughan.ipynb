{
 "cells": [
  {
   "cell_type": "markdown",
   "metadata": {},
   "source": [
    "# Functions and Visualizations"
   ]
  },
  {
   "cell_type": "markdown",
   "metadata": {},
   "source": [
    "Welcome to lab 4! This week, we'll learn about functions and the table method `apply` from [Section 8.1](https://www.inferentialthinking.com/chapters/08/1/applying-a-function-to-a-column.html).  We'll also learn about visualization from [Chapter 7](https://www.inferentialthinking.com/chapters/07/visualization.html).\n",
    "\n",
    "First, set up the tests and imports by running the cell below."
   ]
  },
  {
   "cell_type": "code",
   "execution_count": 2,
   "metadata": {},
   "outputs": [],
   "source": [
    "import numpy as np\n",
    "from datascience import *\n",
    "\n",
    "# These lines set up graphing capabilities.\n",
    "import matplotlib\n",
    "%matplotlib inline\n",
    "import matplotlib.pyplot as plt\n",
    "plt.style.use('fivethirtyeight')\n",
    "import warnings\n",
    "warnings.simplefilter('ignore', FutureWarning)\n",
    "\n",
    "from ipywidgets import interact, interactive, fixed, interact_manual\n",
    "import ipywidgets as widgets\n",
    "\n",
    "from client.api.notebook import Notebook\n"
   ]
  },
  {
   "cell_type": "markdown",
   "metadata": {},
   "source": [
    "## 1. Functions and CEO Incomes\n",
    "\n",
    "Let's start with a real data analysis task.  We'll look at the 2015 compensation of CEOs at the 100 largest companies in California.  The data were compiled for a Los Angeles Times analysis [here](http://spreadsheets.latimes.com/california-ceo-compensation/), and ultimately came from [filings](https://www.sec.gov/answers/proxyhtf.htm) mandated by the SEC from all publicly-traded companies.  Two companies have two CEOs, so there are 102 CEOs in the dataset.\n",
    "\n",
    "We've copied the data in raw form from the LA Times page into a file called `raw_compensation.csv`.  (The page notes that all dollar amounts are in millions of dollars.)"
   ]
  },
  {
   "cell_type": "code",
   "execution_count": 3,
   "metadata": {},
   "outputs": [
    {
     "data": {
      "text/html": [
       "<table border=\"1\" class=\"dataframe\">\n",
       "    <thead>\n",
       "        <tr>\n",
       "            <th>Rank</th> <th>Name</th> <th>Company (Headquarters)</th> <th>Total Pay</th> <th>% Change</th> <th>Cash Pay</th> <th>Equity Pay</th> <th>Other Pay</th> <th>Ratio of CEO pay to average industry worker pay</th>\n",
       "        </tr>\n",
       "    </thead>\n",
       "    <tbody>\n",
       "        <tr>\n",
       "            <td>1   </td> <td>Mark V. Hurd*     </td> <td>Oracle (Redwood City)         </td> <td>$53.25   </td> <td>(No previous year)</td> <td>$0.95   </td> <td>$52.27    </td> <td>$0.02    </td> <td>362                                            </td>\n",
       "        </tr>\n",
       "    </tbody>\n",
       "        <tr>\n",
       "            <td>2   </td> <td>Safra A. Catz*    </td> <td>Oracle (Redwood City)         </td> <td>$53.24   </td> <td>(No previous year)</td> <td>$0.95   </td> <td>$52.27    </td> <td>$0.02    </td> <td>362                                            </td>\n",
       "        </tr>\n",
       "    </tbody>\n",
       "        <tr>\n",
       "            <td>3   </td> <td>Robert A. Iger    </td> <td>Walt Disney (Burbank)         </td> <td>$44.91   </td> <td>-3%               </td> <td>$24.89  </td> <td>$17.28    </td> <td>$2.74    </td> <td>477                                            </td>\n",
       "        </tr>\n",
       "    </tbody>\n",
       "        <tr>\n",
       "            <td>4   </td> <td>Marissa A. Mayer  </td> <td>Yahoo! (Sunnyvale)            </td> <td>$35.98   </td> <td>-15%              </td> <td>$1.00   </td> <td>$34.43    </td> <td>$0.55    </td> <td>342                                            </td>\n",
       "        </tr>\n",
       "    </tbody>\n",
       "        <tr>\n",
       "            <td>5   </td> <td>Marc Benioff      </td> <td>salesforce.com (San Francisco)</td> <td>$33.36   </td> <td>-16%              </td> <td>$4.65   </td> <td>$27.26    </td> <td>$1.45    </td> <td>338                                            </td>\n",
       "        </tr>\n",
       "    </tbody>\n",
       "        <tr>\n",
       "            <td>6   </td> <td>John H. Hammergren</td> <td>McKesson (San Francisco)      </td> <td>$24.84   </td> <td>-4%               </td> <td>$12.10  </td> <td>$12.37    </td> <td>$0.37    </td> <td>222                                            </td>\n",
       "        </tr>\n",
       "    </tbody>\n",
       "        <tr>\n",
       "            <td>7   </td> <td>John S. Watson    </td> <td>Chevron (San Ramon)           </td> <td>$22.04   </td> <td>-15%              </td> <td>$4.31   </td> <td>$14.68    </td> <td>$3.05    </td> <td>183                                            </td>\n",
       "        </tr>\n",
       "    </tbody>\n",
       "        <tr>\n",
       "            <td>8   </td> <td>Jeffrey Weiner    </td> <td>LinkedIn (Mountain View)      </td> <td>$19.86   </td> <td>27%               </td> <td>$2.47   </td> <td>$17.26    </td> <td>$0.13    </td> <td>182                                            </td>\n",
       "        </tr>\n",
       "    </tbody>\n",
       "        <tr>\n",
       "            <td>9   </td> <td>John T. Chambers**</td> <td>Cisco Systems (San Jose)      </td> <td>$19.62   </td> <td>19%               </td> <td>$5.10   </td> <td>$14.51    </td> <td>$0.01    </td> <td>170                                            </td>\n",
       "        </tr>\n",
       "    </tbody>\n",
       "        <tr>\n",
       "            <td>10  </td> <td>John G. Stumpf    </td> <td>Wells Fargo  (San Francisco)  </td> <td>$19.32   </td> <td>-10%              </td> <td>$6.80   </td> <td>$12.50    </td> <td>$0.02    </td> <td>256                                            </td>\n",
       "        </tr>\n",
       "    </tbody>\n",
       "</table>\n",
       "<p>... (92 rows omitted)</p>"
      ],
      "text/plain": [
       "Rank | Name               | Company (Headquarters)         | Total Pay | % Change           | Cash Pay | Equity Pay | Other Pay | Ratio of CEO pay to average industry worker pay\n",
       "1    | Mark V. Hurd*      | Oracle (Redwood City)          | $53.25    | (No previous year) | $0.95    | $52.27     | $0.02     | 362\n",
       "2    | Safra A. Catz*     | Oracle (Redwood City)          | $53.24    | (No previous year) | $0.95    | $52.27     | $0.02     | 362\n",
       "3    | Robert A. Iger     | Walt Disney (Burbank)          | $44.91    | -3%                | $24.89   | $17.28     | $2.74     | 477\n",
       "4    | Marissa A. Mayer   | Yahoo! (Sunnyvale)             | $35.98    | -15%               | $1.00    | $34.43     | $0.55     | 342\n",
       "5    | Marc Benioff       | salesforce.com (San Francisco) | $33.36    | -16%               | $4.65    | $27.26     | $1.45     | 338\n",
       "6    | John H. Hammergren | McKesson (San Francisco)       | $24.84    | -4%                | $12.10   | $12.37     | $0.37     | 222\n",
       "7    | John S. Watson     | Chevron (San Ramon)            | $22.04    | -15%               | $4.31    | $14.68     | $3.05     | 183\n",
       "8    | Jeffrey Weiner     | LinkedIn (Mountain View)       | $19.86    | 27%                | $2.47    | $17.26     | $0.13     | 182\n",
       "9    | John T. Chambers** | Cisco Systems (San Jose)       | $19.62    | 19%                | $5.10    | $14.51     | $0.01     | 170\n",
       "10   | John G. Stumpf     | Wells Fargo  (San Francisco)   | $19.32    | -10%               | $6.80    | $12.50     | $0.02     | 256\n",
       "... (92 rows omitted)"
      ]
     },
     "execution_count": 3,
     "metadata": {},
     "output_type": "execute_result"
    }
   ],
   "source": [
    "raw_compensation = Table.read_table('raw_compensation.csv')\n",
    "raw_compensation"
   ]
  },
  {
   "cell_type": "markdown",
   "metadata": {},
   "source": [
    "**Question 1.1.** <br/> We want to compute the average of the CEOs' pay. Try running the cell below."
   ]
  },
  {
   "cell_type": "code",
   "execution_count": 4,
   "metadata": {},
   "outputs": [
    {
     "ename": "TypeError",
     "evalue": "cannot perform reduce with flexible type",
     "output_type": "error",
     "traceback": [
      "\u001b[0;31m---------------------------------------------------------------------------\u001b[0m",
      "\u001b[0;31mTypeError\u001b[0m                                 Traceback (most recent call last)",
      "\u001b[0;32m<ipython-input-4-f97fab5a8083>\u001b[0m in \u001b[0;36m<module>\u001b[0;34m()\u001b[0m\n\u001b[0;32m----> 1\u001b[0;31m \u001b[0mnp\u001b[0m\u001b[0;34m.\u001b[0m\u001b[0maverage\u001b[0m\u001b[0;34m(\u001b[0m\u001b[0mraw_compensation\u001b[0m\u001b[0;34m.\u001b[0m\u001b[0mcolumn\u001b[0m\u001b[0;34m(\u001b[0m\u001b[0;34m\"Total Pay\"\u001b[0m\u001b[0;34m)\u001b[0m\u001b[0;34m)\u001b[0m\u001b[0;34m\u001b[0m\u001b[0m\n\u001b[0m",
      "\u001b[0;32m/usr/local/lib/python3.6/dist-packages/numpy/lib/function_base.py\u001b[0m in \u001b[0;36maverage\u001b[0;34m(a, axis, weights, returned)\u001b[0m\n\u001b[1;32m   1126\u001b[0m \u001b[0;34m\u001b[0m\u001b[0m\n\u001b[1;32m   1127\u001b[0m     \u001b[0;32mif\u001b[0m \u001b[0mweights\u001b[0m \u001b[0;32mis\u001b[0m \u001b[0;32mNone\u001b[0m\u001b[0;34m:\u001b[0m\u001b[0;34m\u001b[0m\u001b[0m\n\u001b[0;32m-> 1128\u001b[0;31m         \u001b[0mavg\u001b[0m \u001b[0;34m=\u001b[0m \u001b[0ma\u001b[0m\u001b[0;34m.\u001b[0m\u001b[0mmean\u001b[0m\u001b[0;34m(\u001b[0m\u001b[0maxis\u001b[0m\u001b[0;34m)\u001b[0m\u001b[0;34m\u001b[0m\u001b[0m\n\u001b[0m\u001b[1;32m   1129\u001b[0m         \u001b[0mscl\u001b[0m \u001b[0;34m=\u001b[0m \u001b[0mavg\u001b[0m\u001b[0;34m.\u001b[0m\u001b[0mdtype\u001b[0m\u001b[0;34m.\u001b[0m\u001b[0mtype\u001b[0m\u001b[0;34m(\u001b[0m\u001b[0ma\u001b[0m\u001b[0;34m.\u001b[0m\u001b[0msize\u001b[0m\u001b[0;34m/\u001b[0m\u001b[0mavg\u001b[0m\u001b[0;34m.\u001b[0m\u001b[0msize\u001b[0m\u001b[0;34m)\u001b[0m\u001b[0;34m\u001b[0m\u001b[0m\n\u001b[1;32m   1130\u001b[0m     \u001b[0;32melse\u001b[0m\u001b[0;34m:\u001b[0m\u001b[0;34m\u001b[0m\u001b[0m\n",
      "\u001b[0;32m/usr/local/lib/python3.6/dist-packages/numpy/core/_methods.py\u001b[0m in \u001b[0;36m_mean\u001b[0;34m(a, axis, dtype, out, keepdims)\u001b[0m\n\u001b[1;32m     68\u001b[0m             \u001b[0mis_float16_result\u001b[0m \u001b[0;34m=\u001b[0m \u001b[0;32mTrue\u001b[0m\u001b[0;34m\u001b[0m\u001b[0m\n\u001b[1;32m     69\u001b[0m \u001b[0;34m\u001b[0m\u001b[0m\n\u001b[0;32m---> 70\u001b[0;31m     \u001b[0mret\u001b[0m \u001b[0;34m=\u001b[0m \u001b[0mumr_sum\u001b[0m\u001b[0;34m(\u001b[0m\u001b[0marr\u001b[0m\u001b[0;34m,\u001b[0m \u001b[0maxis\u001b[0m\u001b[0;34m,\u001b[0m \u001b[0mdtype\u001b[0m\u001b[0;34m,\u001b[0m \u001b[0mout\u001b[0m\u001b[0;34m,\u001b[0m \u001b[0mkeepdims\u001b[0m\u001b[0;34m)\u001b[0m\u001b[0;34m\u001b[0m\u001b[0m\n\u001b[0m\u001b[1;32m     71\u001b[0m     \u001b[0;32mif\u001b[0m \u001b[0misinstance\u001b[0m\u001b[0;34m(\u001b[0m\u001b[0mret\u001b[0m\u001b[0;34m,\u001b[0m \u001b[0mmu\u001b[0m\u001b[0;34m.\u001b[0m\u001b[0mndarray\u001b[0m\u001b[0;34m)\u001b[0m\u001b[0;34m:\u001b[0m\u001b[0;34m\u001b[0m\u001b[0m\n\u001b[1;32m     72\u001b[0m         ret = um.true_divide(\n",
      "\u001b[0;31mTypeError\u001b[0m: cannot perform reduce with flexible type"
     ]
    }
   ],
   "source": [
    "np.average(raw_compensation.column(\"Total Pay\"))"
   ]
  },
  {
   "cell_type": "markdown",
   "metadata": {},
   "source": [
    "You should see an error. Let's examine why this error occured by looking at the values in the \"Total Pay\" column. Use the `type` function and set `total_pay_type` to the type of the first value in the \"Total Pay\" column."
   ]
  },
  {
   "cell_type": "code",
   "execution_count": 5,
   "metadata": {},
   "outputs": [
    {
     "data": {
      "text/plain": [
       "numpy.str_"
      ]
     },
     "execution_count": 5,
     "metadata": {},
     "output_type": "execute_result"
    }
   ],
   "source": [
    "total_pay_type = type(raw_compensation.column('Total Pay')[0])\n",
    "total_pay_type"
   ]
  },
  {
   "cell_type": "markdown",
   "metadata": {},
   "source": [
    "**Question 1.2.** <br/>You should have found that the values in \"Total Pay\" column are strings (text). It doesn't make sense to take the average of the text values, so we need to convert them to numbers if we want to do this. Extract the first value in the \"Total Pay\" column.  It's Mark Hurd's pay in 2015, in *millions* of dollars.  Call it `mark_hurd_pay_string`."
   ]
  },
  {
   "cell_type": "code",
   "execution_count": 6,
   "metadata": {},
   "outputs": [
    {
     "data": {
      "text/plain": [
       "'$53.25 '"
      ]
     },
     "execution_count": 6,
     "metadata": {},
     "output_type": "execute_result"
    }
   ],
   "source": [
    "mark_hurd_pay_string = raw_compensation.column('Total Pay')[0]\n",
    "mark_hurd_pay_string"
   ]
  },
  {
   "cell_type": "markdown",
   "metadata": {},
   "source": [
    "**Question 1.3.** <br/>Convert `mark_hurd_pay_string` to a number of *dollars*.  The string method `strip` will be useful for removing the dollar sign; it removes a specified character from the start or end of a string.  For example, the value of `\"100%\".strip(\"%\")` is the string `\"100\"`.  You'll also need the function `float`, which converts a string that looks like a number to an actual number.  Last, remember that the answer should be in dollars, not millions of dollars."
   ]
  },
  {
   "cell_type": "code",
   "execution_count": 7,
   "metadata": {},
   "outputs": [
    {
     "data": {
      "text/plain": [
       "'53.25 '"
      ]
     },
     "execution_count": 7,
     "metadata": {},
     "output_type": "execute_result"
    }
   ],
   "source": [
    "mark_hurd_pay = mark_hurd_pay_string.strip('$')\n",
    "mark_hurd_pay"
   ]
  },
  {
   "cell_type": "markdown",
   "metadata": {},
   "source": [
    "To compute the average pay, we need to do this for every CEO.  But that looks like it would involve copying this code 102 times.\n",
    "\n",
    "This is where functions come in.  First, we'll define a new function, giving a name to the expression that converts \"total pay\" strings to numeric values.  Later in this lab we'll see the payoff: we can call that function on every pay string in the dataset at once.\n",
    "\n",
    "**Question 1.4.** <br/>Copy the expression you used to compute `mark_hurd_pay` as the `return` expression of the function below, but replace the specific `mark_hurd_pay_string` with the generic `pay_string` name specified in the first line of the `def` statement.\n",
    "\n",
    "*Hint*: When dealing with functions, you should generally not be referencing any variable outside of the function. Usually, you want to be working with the arguments that are passed into it, such as `pay_string` for this function. "
   ]
  },
  {
   "cell_type": "code",
   "execution_count": 74,
   "metadata": {
    "for_assignment_type": "student"
   },
   "outputs": [],
   "source": [
    "def convert_pay_string_to_number(pay_string):\n",
    "    \"\"\"Converts a pay string like '$100' (in millions) to a number of dollars.\"\"\"\n",
    "    \n",
    "    return float(pay_string.strip('$').strip('%'))"
   ]
  },
  {
   "cell_type": "markdown",
   "metadata": {},
   "source": [
    "Running that cell doesn't convert any particular pay string. Instead, it creates a function called `convert_pay_string_to_number` that can convert any string with the right format to a number representing millions of dollars.\n",
    "\n",
    "We can call our function just like we call the built-in functions we've seen. It takes one argument, a string, and it returns a number."
   ]
  },
  {
   "cell_type": "code",
   "execution_count": 76,
   "metadata": {},
   "outputs": [
    {
     "data": {
      "text/plain": [
       "42.0"
      ]
     },
     "execution_count": 76,
     "metadata": {},
     "output_type": "execute_result"
    }
   ],
   "source": [
    "convert_pay_string_to_number('$42')"
   ]
  },
  {
   "cell_type": "code",
   "execution_count": 77,
   "metadata": {},
   "outputs": [
    {
     "data": {
      "text/plain": [
       "53.25"
      ]
     },
     "execution_count": 77,
     "metadata": {},
     "output_type": "execute_result"
    }
   ],
   "source": [
    "convert_pay_string_to_number(mark_hurd_pay_string)"
   ]
  },
  {
   "cell_type": "code",
   "execution_count": 78,
   "metadata": {},
   "outputs": [
    {
     "data": {
      "text/plain": [
       "53.24"
      ]
     },
     "execution_count": 78,
     "metadata": {},
     "output_type": "execute_result"
    }
   ],
   "source": [
    "# We can also compute Safra Catz's pay in the same way:\n",
    "convert_pay_string_to_number(raw_compensation.where(\"Name\", are.containing(\"Safra\")).column(\"Total Pay\").item(0))"
   ]
  },
  {
   "cell_type": "markdown",
   "metadata": {},
   "source": [
    "So, what have we gained by defining the `convert_pay_string_to_number` function? \n",
    "Well, without it, we'd have to copy that `10**6 * float(pay_string.strip(\"$\"))` stuff each time we wanted to convert a pay string.  Now we just call a function whose name says exactly what it's doing.\n",
    "\n",
    "Soon, we'll see how to apply this function to every pay string in a single expression. First, let's take a brief detour and introduce `interact`."
   ]
  },
  {
   "cell_type": "markdown",
   "metadata": {},
   "source": [
    "### Using `interact`\n",
    "\n",
    "We've included a nifty function called `interact` that allows you to\n",
    "call a function with different arguments.\n",
    "\n",
    "To use it, call `interact` with the function you want to interact with as the\n",
    "first argument, then specify a default value for each argument of the original\n",
    "function like so:"
   ]
  },
  {
   "cell_type": "code",
   "execution_count": 79,
   "metadata": {},
   "outputs": [
    {
     "data": {
      "application/vnd.jupyter.widget-view+json": {
       "model_id": "a867895ad4f84082bb3c3d37fc4e386f",
       "version_major": 2,
       "version_minor": 0
      },
      "text/plain": [
       "interactive(children=(Text(value='$42', description='pay_string'), Output()), _dom_classes=('widget-interact',…"
      ]
     },
     "metadata": {},
     "output_type": "display_data"
    }
   ],
   "source": [
    "_ = interact(convert_pay_string_to_number, pay_string='$42')"
   ]
  },
  {
   "cell_type": "markdown",
   "metadata": {},
   "source": [
    "You can now change the value in the textbox to automatically call\n",
    "`convert_pay_string_to_number` with the argument you enter in the `pay_string`\n",
    "textbox. For example, entering in `'$49'` in the textbox will display the result of\n",
    "running `convert_pay_string_to_number('$49')`. Neat!\n",
    "\n",
    "Note that we'll never ask you to write the `interact` function calls yourself as\n",
    "part of a question. However, we'll include it here and there where it's helpful\n",
    "and you'll probably find it useful to use yourself.\n",
    "\n",
    "Now, let's continue on and write more functions."
   ]
  },
  {
   "cell_type": "markdown",
   "metadata": {},
   "source": [
    "## 2. Defining functions\n",
    "\n",
    "Let's write a very simple function that converts a proportion to a percentage by multiplying it by 100.  For example, the value of `to_percentage(.5)` should be the number 50.  (No percent sign.)\n",
    "\n",
    "A function definition has a few parts.\n",
    "\n",
    "##### `def`\n",
    "It always starts with `def` (short for **def**ine):\n",
    "\n",
    "    def\n",
    "\n",
    "##### Name\n",
    "Next comes the name of the function.  Let's call our function `to_percentage`.\n",
    "    \n",
    "    def to_percentage\n",
    "\n",
    "##### Signature\n",
    "Next comes something called the *signature* of the function.  This tells Python how many arguments your function should have, and what names you'll use to refer to those arguments in the function's code.  `to_percentage` should take one argument, and we'll call that argument `proportion` since it should be a proportion.\n",
    "\n",
    "    def to_percentage(proportion)\n",
    "\n",
    "We put a colon after the signature to tell Python it's over.\n",
    "\n",
    "    def to_percentage(proportion):\n",
    "\n",
    "##### Documentation\n",
    "Functions can do complicated things, so you should write an explanation of what your function does.  For small functions, this is less important, but it's a good habit to learn from the start.  Conventionally, Python functions are documented by writing a triple-quoted string:\n",
    "\n",
    "    def to_percentage(proportion):\n",
    "        \"\"\"Converts a proportion to a percentage.\"\"\"\n",
    "    \n",
    "    \n",
    "##### Body\n",
    "Now we start writing code that runs when the function is called.  This is called the *body* of the function.  We can write anything we could write anywhere else.  First let's give a name to the number we multiply a proportion by to get a percentage.\n",
    "\n",
    "    def to_percentage(proportion):\n",
    "        \"\"\"Converts a proportion to a percentage.\"\"\"\n",
    "        factor = 100\n",
    "\n",
    "##### `return`\n",
    "The special instruction `return` in a function's body tells Python to make the value of the function call equal to whatever comes right after `return`.  We want the value of `to_percentage(.5)` to be the proportion .5 times the factor 100, so we write:\n",
    "\n",
    "    def to_percentage(proportion):\n",
    "        \"\"\"Converts a proportion to a percentage.\"\"\"\n",
    "        factor = 100\n",
    "        return proportion * factor\n",
    "Note that `return` inside a function gives the function a value, while `print`, which we have used before, is a function which has no `return` value and just prints a certain value out to the console. The two are very different. "
   ]
  },
  {
   "cell_type": "markdown",
   "metadata": {},
   "source": [
    "**Question 2.1.** <br/>Define `to_percentage` in the cell below.  Call your function to convert the proportion .2 to a percentage.  Name that percentage `twenty_percent`."
   ]
  },
  {
   "cell_type": "code",
   "execution_count": 80,
   "metadata": {
    "for_assignment_type": "student"
   },
   "outputs": [
    {
     "data": {
      "text/plain": [
       "20.0"
      ]
     },
     "execution_count": 80,
     "metadata": {},
     "output_type": "execute_result"
    }
   ],
   "source": [
    "def to_percentage(prop):\n",
    "    \n",
    "    \"\"\" creates a percentage from a proportion \"\"\"\n",
    "    factor = 100\n",
    "    return (prop*factor)\n",
    "\n",
    "twenty_percent = to_percentage(0.2)\n",
    "twenty_percent"
   ]
  },
  {
   "cell_type": "markdown",
   "metadata": {},
   "source": [
    "Like the built-in functions, you can use named values as arguments to your function.\n",
    "\n",
    "**Question 2.2.** <br/>Use `to_percentage` again to convert the proportion named `a_proportion` (defined below) to a percentage called `a_percentage`.\n",
    "\n",
    "*Note:* You don't need to define `to_percentage` again!  Just like other named things, functions stick around after you define them."
   ]
  },
  {
   "cell_type": "code",
   "execution_count": 81,
   "metadata": {},
   "outputs": [
    {
     "data": {
      "text/plain": [
       "70.71067811865476"
      ]
     },
     "execution_count": 81,
     "metadata": {},
     "output_type": "execute_result"
    }
   ],
   "source": [
    "a_proportion = 2**(.5) / 2\n",
    "a_percentage = to_percentage(a_proportion)\n",
    "a_percentage"
   ]
  },
  {
   "cell_type": "markdown",
   "metadata": {},
   "source": [
    "Here's something important about functions: the names assigned within a function body are only accessible within the function body. Once the function has returned, those names are gone.  So even though you defined `factor = 100` inside `to_percentage` above and then called `to_percentage`, you cannot refer to `factor` anywhere except inside the body of `to_percentage`:"
   ]
  },
  {
   "cell_type": "code",
   "execution_count": 82,
   "metadata": {},
   "outputs": [
    {
     "ename": "NameError",
     "evalue": "name 'factor' is not defined",
     "output_type": "error",
     "traceback": [
      "\u001b[0;31m---------------------------------------------------------------------------\u001b[0m",
      "\u001b[0;31mNameError\u001b[0m                                 Traceback (most recent call last)",
      "\u001b[0;32m<ipython-input-82-a219be0dab32>\u001b[0m in \u001b[0;36m<module>\u001b[0;34m()\u001b[0m\n\u001b[1;32m      1\u001b[0m \u001b[0;31m# You should see an error when you run this.  (If you don't, you might\u001b[0m\u001b[0;34m\u001b[0m\u001b[0;34m\u001b[0m\u001b[0m\n\u001b[1;32m      2\u001b[0m \u001b[0;31m# have defined factor somewhere above.)\u001b[0m\u001b[0;34m\u001b[0m\u001b[0;34m\u001b[0m\u001b[0m\n\u001b[0;32m----> 3\u001b[0;31m \u001b[0mfactor\u001b[0m\u001b[0;34m\u001b[0m\u001b[0m\n\u001b[0m",
      "\u001b[0;31mNameError\u001b[0m: name 'factor' is not defined"
     ]
    }
   ],
   "source": [
    "# You should see an error when you run this.  (If you don't, you might\n",
    "# have defined factor somewhere above.)\n",
    "factor"
   ]
  },
  {
   "cell_type": "markdown",
   "metadata": {},
   "source": [
    "As we've seen with the built-in functions, functions can also take strings (or arrays, or tables) as arguments, and they can return those things, too.\n",
    "\n",
    "**Question 2.3.** <br/>Define a function called `disemvowel`.  It should take a single string as its argument.  (You can call that argument whatever you want.)  It should return a copy of that string, but with all the characters that are vowels removed.  (In English, the vowels are the characters \"a\", \"e\", \"i\", \"o\", and \"u\".)\n",
    "\n",
    "*Hint:* To remove all the \"a\"s from a string, you can use `that_string.replace(\"a\", \"\")`.  The `.replace` method for strings returns another string, so you can call `replace` multiple times, one after the other. "
   ]
  },
  {
   "cell_type": "code",
   "execution_count": 83,
   "metadata": {},
   "outputs": [
    {
     "data": {
      "text/plain": [
       "'Cn y rd ths wtht vwls?'"
      ]
     },
     "execution_count": 83,
     "metadata": {},
     "output_type": "execute_result"
    }
   ],
   "source": [
    "def disemvowel(a_string):\n",
    "    new = a_string.replace('a','').replace('e','').replace('i','').replace('o','').replace('u','')\n",
    "    return new\n",
    "    \n",
    "\n",
    "# An example call to your function.  (It's often helpful to run\n",
    "# an example call from time to time while you're writing a function,\n",
    "# to see how it currently works.)\n",
    "disemvowel(\"Can you read this without vowels?\")"
   ]
  },
  {
   "cell_type": "code",
   "execution_count": 84,
   "metadata": {},
   "outputs": [
    {
     "data": {
      "application/vnd.jupyter.widget-view+json": {
       "model_id": "213536c798284df687650e2af4ea676b",
       "version_major": 2,
       "version_minor": 0
      },
      "text/plain": [
       "interactive(children=(Text(value='Hello world', description='a_string'), Output()), _dom_classes=('widget-inte…"
      ]
     },
     "metadata": {},
     "output_type": "display_data"
    }
   ],
   "source": [
    "# Alternatively, you can use interact to call your function\n",
    "_ = interact(disemvowel, a_string='Hello world')"
   ]
  },
  {
   "cell_type": "markdown",
   "metadata": {},
   "source": [
    "##### Calls on calls on calls\n",
    "Just as you write a series of lines to build up a complex computation, it's useful to define a series of small functions that build on each other.  Since you can write any code inside a function's body, you can call other functions you've written.\n",
    "\n",
    "If a function is a like a recipe, defining a function in terms of other functions is like having a recipe for cake telling you to follow another recipe to make the frosting, and another to make the sprinkles.  This makes the cake recipe shorter and clearer, and it avoids having a bunch of duplicated frosting recipes.  It's a foundation of productive programming.\n",
    "\n",
    "For example, suppose you want to count the number of characters *that aren't vowels* in a piece of text.  One way to do that is this to remove all the vowels and count the size of the remaining string.\n",
    "\n",
    "**Question 2.4.** <br/>Write a function called `num_non_vowels`.  It should take a string as its argument and return a number.  The number should be the number of characters in the argument string that aren't vowels.\n",
    "\n",
    "*Hint:* The function `len` takes a string as its argument and returns the number of characters in it."
   ]
  },
  {
   "cell_type": "code",
   "execution_count": 85,
   "metadata": {},
   "outputs": [
    {
     "data": {
      "text/plain": [
       "17"
      ]
     },
     "execution_count": 85,
     "metadata": {},
     "output_type": "execute_result"
    }
   ],
   "source": [
    "def num_non_vowels(a_string):\n",
    "    \"\"\"The number of characters in a string, minus the vowels.\"\"\"\n",
    "    return len(disemvowel(a_string))\n",
    "\n",
    "# Try calling your function yourself to make sure the output is what\n",
    "# you expect. You can also use the interact function if you'd like.\n",
    "num_non_vowels('there are only nine vowels')"
   ]
  },
  {
   "cell_type": "markdown",
   "metadata": {},
   "source": [
    "Functions can also encapsulate code that *does things* rather than just computing values.  For example, if you call `print` inside a function, and then call that function, something will get printed.\n",
    "\n",
    "The `movies_by_year` dataset in the textbook has information about movie sales in recent years.  Suppose you'd like to display the year with the 5th-highest total gross movie sales, printed in a human-readable way.  You might do this:"
   ]
  },
  {
   "cell_type": "code",
   "execution_count": 86,
   "metadata": {},
   "outputs": [
    {
     "name": "stdout",
     "output_type": "stream",
     "text": [
      "Year number 5 for total gross movie sales was: 2010\n"
     ]
    }
   ],
   "source": [
    "movies_by_year = Table.read_table(\"movies_by_year.csv\")\n",
    "rank = 5\n",
    "fifth_from_top_movie_year = movies_by_year.sort(\"Total Gross\", descending=True).column(\"Year\").item(rank-1)\n",
    "print(\"Year number\", rank, \"for total gross movie sales was:\", fifth_from_top_movie_year)"
   ]
  },
  {
   "cell_type": "markdown",
   "metadata": {},
   "source": [
    "After writing this, you realize you also wanted to print out the 2nd and 3rd-highest years.  Instead of copying your code, you decide to put it in a function.  Since the rank varies, you make that an argument to your function.\n",
    "\n",
    "**Question 2.5.** <br/>Write a function called `print_kth_top_movie_year`.  It should take a single argument, the rank of the year (like 2, 3, or 5 in the above examples).  It should print out a message like the one above.  It shouldn't have a `return` statement."
   ]
  },
  {
   "cell_type": "code",
   "execution_count": 87,
   "metadata": {
    "for_assignment_type": "student"
   },
   "outputs": [
    {
     "name": "stdout",
     "output_type": "stream",
     "text": [
      "Year number 2 for total gross movie sales was: 2013\n",
      "Year number 3 for total gross movie sales was: 2012\n"
     ]
    }
   ],
   "source": [
    "def print_kth_top_movie_year(k):\n",
    "    # Our solution used 2 lines.\n",
    "    k_from_top_movie_year = movies_by_year.sort(\"Total Gross\", descending=True).column(\"Year\").item(k-1)\n",
    "    print(\"Year number\", k, \"for total gross movie sales was:\", k_from_top_movie_year)\n",
    "\n",
    "# Example calls to your function:\n",
    "print_kth_top_movie_year(2)\n",
    "print_kth_top_movie_year(3)"
   ]
  },
  {
   "cell_type": "code",
   "execution_count": 88,
   "metadata": {},
   "outputs": [
    {
     "data": {
      "application/vnd.jupyter.widget-view+json": {
       "model_id": "584fc79540d84b35a89f15da5ac64466",
       "version_major": 2,
       "version_minor": 0
      },
      "text/plain": [
       "interactive(children=(Dropdown(description='k', options=(1, 2, 3, 4, 5, 6, 7, 8, 9), value=1), Output()), _dom…"
      ]
     },
     "metadata": {},
     "output_type": "display_data"
    }
   ],
   "source": [
    "# interact also allows you to pass in an array for a function argument. It will\n",
    "# then present a dropdown menu of options.\n",
    "_ = interact(print_kth_top_movie_year, k=np.arange(1, 10))"
   ]
  },
  {
   "cell_type": "markdown",
   "metadata": {},
   "source": [
    "## 3. `apply`ing functions\n",
    "\n",
    "Defining a function is a lot like giving a name to a value with `=`.  In fact, a function is a value just like the number 1 or the text \"the\"!\n",
    "\n",
    "For example, we can make a new name for the built-in function `max` if we want:"
   ]
  },
  {
   "cell_type": "code",
   "execution_count": 89,
   "metadata": {},
   "outputs": [
    {
     "data": {
      "text/plain": [
       "6"
      ]
     },
     "execution_count": 89,
     "metadata": {},
     "output_type": "execute_result"
    }
   ],
   "source": [
    "our_name_for_max = max\n",
    "our_name_for_max(2, 6)"
   ]
  },
  {
   "cell_type": "markdown",
   "metadata": {},
   "source": [
    "The old name for `max` is still around:"
   ]
  },
  {
   "cell_type": "code",
   "execution_count": 90,
   "metadata": {},
   "outputs": [
    {
     "data": {
      "text/plain": [
       "6"
      ]
     },
     "execution_count": 90,
     "metadata": {},
     "output_type": "execute_result"
    }
   ],
   "source": [
    "max(2, 6)"
   ]
  },
  {
   "cell_type": "markdown",
   "metadata": {},
   "source": [
    "Try just writing `max` or `our_name_for_max` (or the name of any other function) in a cell, and run that cell.  Python will print out a (very brief) description of the function."
   ]
  },
  {
   "cell_type": "code",
   "execution_count": 91,
   "metadata": {},
   "outputs": [
    {
     "data": {
      "text/plain": [
       "<function max>"
      ]
     },
     "execution_count": 91,
     "metadata": {},
     "output_type": "execute_result"
    }
   ],
   "source": [
    "max"
   ]
  },
  {
   "cell_type": "markdown",
   "metadata": {},
   "source": [
    "Why is this useful?  Since functions are just values, it's possible to pass them as arguments to other functions.  Here's a simple but not-so-practical example: we can make an array of functions."
   ]
  },
  {
   "cell_type": "code",
   "execution_count": 92,
   "metadata": {},
   "outputs": [
    {
     "data": {
      "text/plain": [
       "array([<built-in function max>, <function average at 0x7f06f41c72f0>,\n",
       "       <function are.equal_to at 0x7f06bcffb620>], dtype=object)"
      ]
     },
     "execution_count": 92,
     "metadata": {},
     "output_type": "execute_result"
    }
   ],
   "source": [
    "make_array(max, np.average, are.equal_to)"
   ]
  },
  {
   "cell_type": "markdown",
   "metadata": {},
   "source": [
    "**Question 3.1.** <br/>Make an array containing any 3 other functions you've seen.  Call it `some_functions`."
   ]
  },
  {
   "cell_type": "code",
   "execution_count": 93,
   "metadata": {},
   "outputs": [
    {
     "data": {
      "text/plain": [
       "array([<built-in function min>, <function are.below at 0x7f06bcffb730>,\n",
       "       <function are.above at 0x7f06bcffb6a8>], dtype=object)"
      ]
     },
     "execution_count": 93,
     "metadata": {},
     "output_type": "execute_result"
    }
   ],
   "source": [
    "some_functions = make_array(min, are.below, are.above)\n",
    "some_functions"
   ]
  },
  {
   "cell_type": "markdown",
   "metadata": {},
   "source": [
    "Working with functions as values can lead to some funny-looking code.  For example, see if you can figure out why this works:"
   ]
  },
  {
   "cell_type": "code",
   "execution_count": 94,
   "metadata": {},
   "outputs": [
    {
     "data": {
      "text/plain": [
       "7"
      ]
     },
     "execution_count": 94,
     "metadata": {},
     "output_type": "execute_result"
    }
   ],
   "source": [
    "make_array(max, np.average, are.equal_to).item(0)(4, -2, 7)"
   ]
  },
  {
   "cell_type": "markdown",
   "metadata": {},
   "source": [
    "Here's a simpler example that's actually useful: the table method `apply`.\n",
    "\n",
    "`apply` calls a function many times, once on *each* element in a column of a table.  It produces an array of the results.  Here we use `apply` to convert every CEO's pay to a number, using the function you defined:"
   ]
  },
  {
   "cell_type": "code",
   "execution_count": 95,
   "metadata": {},
   "outputs": [
    {
     "data": {
      "text/plain": [
       "array([5.325e+01, 5.324e+01, 4.491e+01, 3.598e+01, 3.336e+01, 2.484e+01,\n",
       "       2.204e+01, 1.986e+01, 1.962e+01, 1.932e+01, 1.876e+01, 1.861e+01,\n",
       "       1.836e+01, 1.809e+01, 1.710e+01, 1.663e+01, 1.633e+01, 1.614e+01,\n",
       "       1.610e+01, 1.602e+01, 1.510e+01, 1.498e+01, 1.463e+01, 1.451e+01,\n",
       "       1.444e+01, 1.436e+01, 1.431e+01, 1.409e+01, 1.400e+01, 1.367e+01,\n",
       "       1.234e+01, 1.220e+01, 1.218e+01, 1.213e+01, 1.205e+01, 1.184e+01,\n",
       "       1.171e+01, 1.163e+01, 1.116e+01, 1.111e+01, 1.111e+01, 1.073e+01,\n",
       "       1.050e+01, 1.043e+01, 1.037e+01, 1.028e+01, 1.027e+01, 1.018e+01,\n",
       "       1.016e+01, 9.970e+00, 9.960e+00, 9.860e+00, 9.740e+00, 9.420e+00,\n",
       "       9.390e+00, 9.220e+00, 9.060e+00, 9.030e+00, 8.860e+00, 8.760e+00,\n",
       "       8.570e+00, 8.380e+00, 8.360e+00, 8.350e+00, 8.230e+00, 7.860e+00,\n",
       "       7.700e+00, 7.580e+00, 7.510e+00, 7.230e+00, 7.210e+00, 7.120e+00,\n",
       "       6.880e+00, 6.770e+00, 6.640e+00, 6.560e+00, 6.140e+00, 5.920e+00,\n",
       "       5.900e+00, 5.890e+00, 5.730e+00, 5.420e+00, 5.040e+00, 4.920e+00,\n",
       "       4.920e+00, 4.470e+00, 4.250e+00, 4.080e+00, 3.930e+00, 3.720e+00,\n",
       "       2.880e+00, 2.830e+00, 2.820e+00, 2.450e+00, 1.790e+00, 1.680e+00,\n",
       "       1.530e+00, 9.400e-01, 8.100e-01, 7.000e-02, 4.000e-02, 0.000e+00])"
      ]
     },
     "execution_count": 95,
     "metadata": {},
     "output_type": "execute_result"
    }
   ],
   "source": [
    "raw_compensation.apply(convert_pay_string_to_number, \"Total Pay\")"
   ]
  },
  {
   "cell_type": "markdown",
   "metadata": {},
   "source": [
    "Here's an illustration of what that did:\n",
    "\n",
    "<img src=\"apply.png\" alt=\"For each value in the column 'Total Pay', the function `convert_pay_string_to_number` was applied.\"/>\n",
    "\n",
    "Note that we didn't write something like `convert_pay_string_to_number()` or `convert_pay_string_to_number(\"Total Pay\")`.  The job of `apply` is to call the function we give it, so instead of calling `convert_pay_string_to_number` ourselves, we just write its name as an argument to `apply`.\n",
    "\n",
    "**Question 3.2.** <br/>Using `apply`, make a table that's a copy of `raw_compensation` with one more column called \"Total Pay (\\$)\".  It should be the result of applying `convert_pay_string_to_number` to the \"Total Pay\" column, as we did above, and creating a new table which is the old one, but with the \"Total Pay\" column redone.  Call the new table `compensation`."
   ]
  },
  {
   "cell_type": "code",
   "execution_count": 96,
   "metadata": {},
   "outputs": [
    {
     "data": {
      "text/html": [
       "<table border=\"1\" class=\"dataframe\">\n",
       "    <thead>\n",
       "        <tr>\n",
       "            <th>Rank</th> <th>Name</th> <th>Company (Headquarters)</th> <th>Total Pay</th> <th>% Change</th> <th>Cash Pay</th> <th>Equity Pay</th> <th>Other Pay</th> <th>Ratio of CEO pay to average industry worker pay</th> <th>Total Pay ($)</th>\n",
       "        </tr>\n",
       "    </thead>\n",
       "    <tbody>\n",
       "        <tr>\n",
       "            <td>1   </td> <td>Mark V. Hurd*     </td> <td>Oracle (Redwood City)         </td> <td>$53.25   </td> <td>(No previous year)</td> <td>$0.95   </td> <td>$52.27    </td> <td>$0.02    </td> <td>362                                            </td> <td>53.25        </td>\n",
       "        </tr>\n",
       "    </tbody>\n",
       "        <tr>\n",
       "            <td>2   </td> <td>Safra A. Catz*    </td> <td>Oracle (Redwood City)         </td> <td>$53.24   </td> <td>(No previous year)</td> <td>$0.95   </td> <td>$52.27    </td> <td>$0.02    </td> <td>362                                            </td> <td>53.24        </td>\n",
       "        </tr>\n",
       "    </tbody>\n",
       "        <tr>\n",
       "            <td>3   </td> <td>Robert A. Iger    </td> <td>Walt Disney (Burbank)         </td> <td>$44.91   </td> <td>-3%               </td> <td>$24.89  </td> <td>$17.28    </td> <td>$2.74    </td> <td>477                                            </td> <td>44.91        </td>\n",
       "        </tr>\n",
       "    </tbody>\n",
       "        <tr>\n",
       "            <td>4   </td> <td>Marissa A. Mayer  </td> <td>Yahoo! (Sunnyvale)            </td> <td>$35.98   </td> <td>-15%              </td> <td>$1.00   </td> <td>$34.43    </td> <td>$0.55    </td> <td>342                                            </td> <td>35.98        </td>\n",
       "        </tr>\n",
       "    </tbody>\n",
       "        <tr>\n",
       "            <td>5   </td> <td>Marc Benioff      </td> <td>salesforce.com (San Francisco)</td> <td>$33.36   </td> <td>-16%              </td> <td>$4.65   </td> <td>$27.26    </td> <td>$1.45    </td> <td>338                                            </td> <td>33.36        </td>\n",
       "        </tr>\n",
       "    </tbody>\n",
       "        <tr>\n",
       "            <td>6   </td> <td>John H. Hammergren</td> <td>McKesson (San Francisco)      </td> <td>$24.84   </td> <td>-4%               </td> <td>$12.10  </td> <td>$12.37    </td> <td>$0.37    </td> <td>222                                            </td> <td>24.84        </td>\n",
       "        </tr>\n",
       "    </tbody>\n",
       "        <tr>\n",
       "            <td>7   </td> <td>John S. Watson    </td> <td>Chevron (San Ramon)           </td> <td>$22.04   </td> <td>-15%              </td> <td>$4.31   </td> <td>$14.68    </td> <td>$3.05    </td> <td>183                                            </td> <td>22.04        </td>\n",
       "        </tr>\n",
       "    </tbody>\n",
       "        <tr>\n",
       "            <td>8   </td> <td>Jeffrey Weiner    </td> <td>LinkedIn (Mountain View)      </td> <td>$19.86   </td> <td>27%               </td> <td>$2.47   </td> <td>$17.26    </td> <td>$0.13    </td> <td>182                                            </td> <td>19.86        </td>\n",
       "        </tr>\n",
       "    </tbody>\n",
       "        <tr>\n",
       "            <td>9   </td> <td>John T. Chambers**</td> <td>Cisco Systems (San Jose)      </td> <td>$19.62   </td> <td>19%               </td> <td>$5.10   </td> <td>$14.51    </td> <td>$0.01    </td> <td>170                                            </td> <td>19.62        </td>\n",
       "        </tr>\n",
       "    </tbody>\n",
       "        <tr>\n",
       "            <td>10  </td> <td>John G. Stumpf    </td> <td>Wells Fargo  (San Francisco)  </td> <td>$19.32   </td> <td>-10%              </td> <td>$6.80   </td> <td>$12.50    </td> <td>$0.02    </td> <td>256                                            </td> <td>19.32        </td>\n",
       "        </tr>\n",
       "    </tbody>\n",
       "</table>\n",
       "<p>... (92 rows omitted)</p>"
      ],
      "text/plain": [
       "Rank | Name               | Company (Headquarters)         | Total Pay | % Change           | Cash Pay | Equity Pay | Other Pay | Ratio of CEO pay to average industry worker pay | Total Pay ($)\n",
       "1    | Mark V. Hurd*      | Oracle (Redwood City)          | $53.25    | (No previous year) | $0.95    | $52.27     | $0.02     | 362                                             | 53.25\n",
       "2    | Safra A. Catz*     | Oracle (Redwood City)          | $53.24    | (No previous year) | $0.95    | $52.27     | $0.02     | 362                                             | 53.24\n",
       "3    | Robert A. Iger     | Walt Disney (Burbank)          | $44.91    | -3%                | $24.89   | $17.28     | $2.74     | 477                                             | 44.91\n",
       "4    | Marissa A. Mayer   | Yahoo! (Sunnyvale)             | $35.98    | -15%               | $1.00    | $34.43     | $0.55     | 342                                             | 35.98\n",
       "5    | Marc Benioff       | salesforce.com (San Francisco) | $33.36    | -16%               | $4.65    | $27.26     | $1.45     | 338                                             | 33.36\n",
       "6    | John H. Hammergren | McKesson (San Francisco)       | $24.84    | -4%                | $12.10   | $12.37     | $0.37     | 222                                             | 24.84\n",
       "7    | John S. Watson     | Chevron (San Ramon)            | $22.04    | -15%               | $4.31    | $14.68     | $3.05     | 183                                             | 22.04\n",
       "8    | Jeffrey Weiner     | LinkedIn (Mountain View)       | $19.86    | 27%                | $2.47    | $17.26     | $0.13     | 182                                             | 19.86\n",
       "9    | John T. Chambers** | Cisco Systems (San Jose)       | $19.62    | 19%                | $5.10    | $14.51     | $0.01     | 170                                             | 19.62\n",
       "10   | John G. Stumpf     | Wells Fargo  (San Francisco)   | $19.32    | -10%               | $6.80    | $12.50     | $0.02     | 256                                             | 19.32\n",
       "... (92 rows omitted)"
      ]
     },
     "execution_count": 96,
     "metadata": {},
     "output_type": "execute_result"
    }
   ],
   "source": [
    "compensation = raw_compensation.with_column(\n",
    "    \"Total Pay ($)\",raw_compensation.apply(convert_pay_string_to_number, 'Total Pay'))\n",
    "    \n",
    "compensation"
   ]
  },
  {
   "cell_type": "markdown",
   "metadata": {},
   "source": [
    "Now that we have the pay in numbers, we can compute things about them.\n",
    "\n",
    "**Question 3.3.**<br/>Compute the average total pay of the CEOs in the dataset."
   ]
  },
  {
   "cell_type": "code",
   "execution_count": 97,
   "metadata": {},
   "outputs": [
    {
     "data": {
      "text/plain": [
       "11.445294117647055"
      ]
     },
     "execution_count": 97,
     "metadata": {},
     "output_type": "execute_result"
    }
   ],
   "source": [
    "average_total_pay = np.average(compensation.column('Total Pay ($)'))\n",
    "average_total_pay"
   ]
  },
  {
   "cell_type": "markdown",
   "metadata": {},
   "source": [
    "**Question 3.4.** <br/>Companies pay executives in a variety of ways: directly in cash; by granting stock or other \"equity\" in the company; or with ancillary benefits (like private jets).  Compute the proportion of each CEO's pay that was cash.  (Your answer should be an array of numbers, one for each CEO in the dataset.)"
   ]
  },
  {
   "cell_type": "code",
   "execution_count": 98,
   "metadata": {},
   "outputs": [
    {
     "name": "stderr",
     "output_type": "stream",
     "text": [
      "/usr/local/lib/python3.6/dist-packages/ipykernel_launcher.py:1: RuntimeWarning: invalid value encountered in true_divide\n",
      "  \"\"\"Entry point for launching an IPython kernel.\n"
     ]
    },
    {
     "data": {
      "text/plain": [
       "array([  1.78403756,   1.78437265,  55.42195502,   2.77932185,\n",
       "        13.93884892,  48.71175523,  19.5553539 ,  12.43705942,\n",
       "        25.99388379,  35.19668737,  30.75692964,  22.13863514,\n",
       "        13.12636166,  17.08126036,  23.0994152 ,   6.7348166 ,\n",
       "        13.04347826,  28.00495663,  33.22981366,  15.35580524,\n",
       "        29.33774834,  21.82910547,  31.10047847,  25.08614748,\n",
       "        22.99168975,  16.99164345,  31.79594689,  26.18878637,\n",
       "        28.35714286,  15.65471836,  38.16855754,  28.93442623,\n",
       "        20.36124795,  47.65045342,  45.64315353,  36.40202703,\n",
       "        21.77625961,  24.76354256,  42.56272401,  26.10261026,\n",
       "        18.36183618,  14.44547996,  33.33333333,  10.83413231,\n",
       "        20.92574735,  97.27626459,  22.97955209,  22.78978389,\n",
       "        37.89370079,  25.17552658,  73.89558233,  37.01825558,\n",
       "        24.12731006,  21.33757962,  20.55378062,  23.31887202,\n",
       "        33.66445916,  38.75968992,  56.09480813,  11.75799087,\n",
       "        35.23920653,  24.46300716,  25.        ,  23.71257485,\n",
       "        43.37788578,  31.42493639,  46.36363636,  32.58575198,\n",
       "        24.76697736,  98.75518672,  27.18446602,  96.20786517,\n",
       "        31.83139535,  81.97932053,  23.79518072,  17.5304878 ,\n",
       "        21.17263844,  37.16216216,  27.28813559,  26.99490662,\n",
       "        55.14834206,  35.97785978,   0.        ,  47.15447154,\n",
       "        47.15447154,  29.75391499,  16.23529412,  48.52941176,\n",
       "        46.81933842,  32.52688172,  98.95833333,  61.13074205,\n",
       "        67.0212766 ,  75.51020408,  50.83798883,  98.80952381,\n",
       "        98.03921569,  98.93617021,  87.65432099,   0.        ,\n",
       "       100.        ,          nan])"
      ]
     },
     "execution_count": 98,
     "metadata": {},
     "output_type": "execute_result"
    }
   ],
   "source": [
    "cash_proportion = compensation.apply(convert_pay_string_to_number, 'Cash Pay')/compensation.column('Total Pay ($)') *100\n",
    "cash_proportion"
   ]
  },
  {
   "cell_type": "markdown",
   "metadata": {},
   "source": [
    "Check out the \"% Change\" column in `compensation`.  It shows the percentage increase in the CEO's pay from the previous year.  For CEOs with no previous year on record, it instead says \"(No previous year)\".  The values in this column are *strings*, not numbers, so like the \"Total Pay\" column, it's not usable without a bit of extra work.\n",
    "\n",
    "Given your current pay and the percentage increase from the previous year, you can compute your previous year's pay.  For example, if your pay is \\$100 this year, and that's an increase of 50% from the previous year, then your previous year's pay was $\\frac{\\$100}{1 + \\frac{50}{100}}$, or around \\$66.66.\n",
    "\n",
    "**Question 3.5.** <br/>Create a new table called `with_previous_compensation`.  It should be a copy of `compensation`, but with the \"(No previous year)\" CEOs filtered out, and with an extra column called \"2014 Total Pay ($)\".  That column should have each CEO's pay in 2014.\n",
    "\n",
    "*Hint:* This question takes several steps, but each one is still something you've seen before.  Take it one step at a time, using as many lines as you need.  You can print out your results after each step to make sure you're on the right track.\n",
    "\n",
    "*Hint 2:* You'll need to define a function.  You can do that just above your other code."
   ]
  },
  {
   "cell_type": "code",
   "execution_count": 102,
   "metadata": {
    "for_assignment_type": "student"
   },
   "outputs": [
    {
     "data": {
      "text/html": [
       "<table border=\"1\" class=\"dataframe\">\n",
       "    <thead>\n",
       "        <tr>\n",
       "            <th>Rank</th> <th>Name</th> <th>Company (Headquarters)</th> <th>Total Pay</th> <th>% Change</th> <th>Cash Pay</th> <th>Equity Pay</th> <th>Other Pay</th> <th>Ratio of CEO pay to average industry worker pay</th> <th>Total Pay ($)</th> <th>2014 Total Pay ($)</th>\n",
       "        </tr>\n",
       "    </thead>\n",
       "    <tbody>\n",
       "        <tr>\n",
       "            <td>3   </td> <td>Robert A. Iger    </td> <td>Walt Disney (Burbank)         </td> <td>$44.91   </td> <td>-3%     </td> <td>$24.89  </td> <td>$17.28    </td> <td>$2.74    </td> <td>477                                            </td> <td>44.91        </td> <td>43.5627           </td>\n",
       "        </tr>\n",
       "    </tbody>\n",
       "        <tr>\n",
       "            <td>4   </td> <td>Marissa A. Mayer  </td> <td>Yahoo! (Sunnyvale)            </td> <td>$35.98   </td> <td>-15%    </td> <td>$1.00   </td> <td>$34.43    </td> <td>$0.55    </td> <td>342                                            </td> <td>35.98        </td> <td>30.583            </td>\n",
       "        </tr>\n",
       "    </tbody>\n",
       "        <tr>\n",
       "            <td>5   </td> <td>Marc Benioff      </td> <td>salesforce.com (San Francisco)</td> <td>$33.36   </td> <td>-16%    </td> <td>$4.65   </td> <td>$27.26    </td> <td>$1.45    </td> <td>338                                            </td> <td>33.36        </td> <td>28.0224           </td>\n",
       "        </tr>\n",
       "    </tbody>\n",
       "        <tr>\n",
       "            <td>6   </td> <td>John H. Hammergren</td> <td>McKesson (San Francisco)      </td> <td>$24.84   </td> <td>-4%     </td> <td>$12.10  </td> <td>$12.37    </td> <td>$0.37    </td> <td>222                                            </td> <td>24.84        </td> <td>23.8464           </td>\n",
       "        </tr>\n",
       "    </tbody>\n",
       "        <tr>\n",
       "            <td>7   </td> <td>John S. Watson    </td> <td>Chevron (San Ramon)           </td> <td>$22.04   </td> <td>-15%    </td> <td>$4.31   </td> <td>$14.68    </td> <td>$3.05    </td> <td>183                                            </td> <td>22.04        </td> <td>18.734            </td>\n",
       "        </tr>\n",
       "    </tbody>\n",
       "        <tr>\n",
       "            <td>8   </td> <td>Jeffrey Weiner    </td> <td>LinkedIn (Mountain View)      </td> <td>$19.86   </td> <td>27%     </td> <td>$2.47   </td> <td>$17.26    </td> <td>$0.13    </td> <td>182                                            </td> <td>19.86        </td> <td>25.2222           </td>\n",
       "        </tr>\n",
       "    </tbody>\n",
       "        <tr>\n",
       "            <td>9   </td> <td>John T. Chambers**</td> <td>Cisco Systems (San Jose)      </td> <td>$19.62   </td> <td>19%     </td> <td>$5.10   </td> <td>$14.51    </td> <td>$0.01    </td> <td>170                                            </td> <td>19.62        </td> <td>23.3478           </td>\n",
       "        </tr>\n",
       "    </tbody>\n",
       "        <tr>\n",
       "            <td>10  </td> <td>John G. Stumpf    </td> <td>Wells Fargo  (San Francisco)  </td> <td>$19.32   </td> <td>-10%    </td> <td>$6.80   </td> <td>$12.50    </td> <td>$0.02    </td> <td>256                                            </td> <td>19.32        </td> <td>17.388            </td>\n",
       "        </tr>\n",
       "    </tbody>\n",
       "        <tr>\n",
       "            <td>11  </td> <td>John C. Martin**  </td> <td>Gilead Sciences (Foster City) </td> <td>$18.76   </td> <td>-1%     </td> <td>$5.77   </td> <td>$12.98    </td> <td>$0.01    </td> <td>117                                            </td> <td>18.76        </td> <td>18.5724           </td>\n",
       "        </tr>\n",
       "    </tbody>\n",
       "        <tr>\n",
       "            <td>13  </td> <td>Shantanu Narayen  </td> <td>Adobe Systems (San Jose)      </td> <td>$18.36   </td> <td>3%      </td> <td>$2.41   </td> <td>$15.85    </td> <td>$0.09    </td> <td>125                                            </td> <td>18.36        </td> <td>18.9108           </td>\n",
       "        </tr>\n",
       "    </tbody>\n",
       "</table>\n",
       "<p>... (71 rows omitted)</p>"
      ],
      "text/plain": [
       "Rank | Name               | Company (Headquarters)         | Total Pay | % Change | Cash Pay | Equity Pay | Other Pay | Ratio of CEO pay to average industry worker pay | Total Pay ($) | 2014 Total Pay ($)\n",
       "3    | Robert A. Iger     | Walt Disney (Burbank)          | $44.91    | -3%      | $24.89   | $17.28     | $2.74     | 477                                             | 44.91         | 43.5627\n",
       "4    | Marissa A. Mayer   | Yahoo! (Sunnyvale)             | $35.98    | -15%     | $1.00    | $34.43     | $0.55     | 342                                             | 35.98         | 30.583\n",
       "5    | Marc Benioff       | salesforce.com (San Francisco) | $33.36    | -16%     | $4.65    | $27.26     | $1.45     | 338                                             | 33.36         | 28.0224\n",
       "6    | John H. Hammergren | McKesson (San Francisco)       | $24.84    | -4%      | $12.10   | $12.37     | $0.37     | 222                                             | 24.84         | 23.8464\n",
       "7    | John S. Watson     | Chevron (San Ramon)            | $22.04    | -15%     | $4.31    | $14.68     | $3.05     | 183                                             | 22.04         | 18.734\n",
       "8    | Jeffrey Weiner     | LinkedIn (Mountain View)       | $19.86    | 27%      | $2.47    | $17.26     | $0.13     | 182                                             | 19.86         | 25.2222\n",
       "9    | John T. Chambers** | Cisco Systems (San Jose)       | $19.62    | 19%      | $5.10    | $14.51     | $0.01     | 170                                             | 19.62         | 23.3478\n",
       "10   | John G. Stumpf     | Wells Fargo  (San Francisco)   | $19.32    | -10%     | $6.80    | $12.50     | $0.02     | 256                                             | 19.32         | 17.388\n",
       "11   | John C. Martin**   | Gilead Sciences (Foster City)  | $18.76    | -1%      | $5.77    | $12.98     | $0.01     | 117                                             | 18.76         | 18.5724\n",
       "13   | Shantanu Narayen   | Adobe Systems (San Jose)       | $18.36    | 3%       | $2.41    | $15.85     | $0.09     | 125                                             | 18.36         | 18.9108\n",
       "... (71 rows omitted)"
      ]
     },
     "execution_count": 102,
     "metadata": {},
     "output_type": "execute_result"
    }
   ],
   "source": [
    "# For reference, our solution involved more than just this one line of code\n",
    "...\n",
    "bad_rows = compensation.where('% Change', are.equal_to('(No previous year)'))\n",
    "\n",
    "with_previous_compensation = compensation.exclude(bad_rows.column('Rank')-1)\n",
    "with_previous_compensation_2014 = with_previous_compensation.with_column('2014 Total Pay ($)',(with_previous_compensation.apply(convert_pay_string_to_number, '% Change')/100)*with_previous_compensation.column('Total Pay ($)')+with_previous_compensation.column('Total Pay ($)'))\n",
    "with_previous_compensation_2014"
   ]
  },
  {
   "cell_type": "markdown",
   "metadata": {},
   "source": [
    "**Question 3.6.** <br/>What was the average pay of these CEOs in 2014?"
   ]
  },
  {
   "cell_type": "code",
   "execution_count": 103,
   "metadata": {},
   "outputs": [
    {
     "data": {
      "text/plain": [
       "11.339681481481481"
      ]
     },
     "execution_count": 103,
     "metadata": {},
     "output_type": "execute_result"
    }
   ],
   "source": [
    "average_pay_2014 = np.average(with_previous_compensation_2014.column('2014 Total Pay ($)'))\n",
    "average_pay_2014"
   ]
  },
  {
   "cell_type": "markdown",
   "metadata": {},
   "source": [
    "## 4. Histograms\n",
    "Earlier, we computed the average pay among the CEOs in our 102-CEO dataset.  The average doesn't tell us everything about the amounts CEOs are paid, though.  Maybe just a few CEOs make the bulk of the money, even among these 102.\n",
    "\n",
    "We can use a *histogram* to display more information about a set of numbers.  The table method `hist` takes a single argument, the name of a column of numbers.  It produces a histogram of the numbers in that column.\n",
    "\n",
    "**Question 4.1.** <br/>Make a histogram of the pay of the CEOs in `compensation`."
   ]
  },
  {
   "cell_type": "code",
   "execution_count": 104,
   "metadata": {},
   "outputs": [
    {
     "name": "stderr",
     "output_type": "stream",
     "text": [
      "/usr/local/lib/python3.6/dist-packages/matplotlib/axes/_axes.py:6462: UserWarning: The 'normed' kwarg is deprecated, and has been replaced by the 'density' kwarg.\n",
      "  warnings.warn(\"The 'normed' kwarg is deprecated, and has been \"\n"
     ]
    },
    {
     "data": {
      "image/png": "[encoded data removed]",
      "text/plain": [
       "<Figure size 432x288 with 1 Axes>"
      ]
     },
     "metadata": {},
     "output_type": "display_data"
    }
   ],
   "source": [
    "compensation.hist('Total Pay ($)')"
   ]
  },
  {
   "cell_type": "markdown",
   "metadata": {},
   "source": [
    "**Question 4.2.** <br/>Looking at the histogram, how many CEOs made more than \\$30 million?  (Answer the question by filling in your answer manually.  You'll have to do a bit of arithmetic; feel free to use Python as a calculator.)"
   ]
  },
  {
   "cell_type": "code",
   "execution_count": 120,
   "metadata": {},
   "outputs": [
    {
     "data": {
      "text/plain": [
       "4.0"
      ]
     },
     "execution_count": 120,
     "metadata": {},
     "output_type": "execute_result"
    }
   ],
   "source": [
    "num_ceos_more_than_30_million = (5*0.3 + 5*0.2 + 5*0.3)\n",
    "\n",
    "num_ceos_more_than_30_million"
   ]
  },
  {
   "cell_type": "markdown",
   "metadata": {},
   "source": [
    "**Question 4.3.**<br/> Answer the same question with code.  *Hint:* Use the table method `where` and the property `num_rows`."
   ]
  },
  {
   "cell_type": "code",
   "execution_count": 121,
   "metadata": {},
   "outputs": [
    {
     "data": {
      "text/plain": [
       "5"
      ]
     },
     "execution_count": 121,
     "metadata": {},
     "output_type": "execute_result"
    }
   ],
   "source": [
    "num_ceos_more_than_30_million_2 = len(compensation.where('Total Pay ($)', are.above(30)).column(0))\n",
    "num_ceos_more_than_30_million_2"
   ]
  },
  {
   "cell_type": "markdown",
   "metadata": {},
   "source": [
    "## 5. Submission"
   ]
  },
  {
   "cell_type": "markdown",
   "metadata": {},
   "source": [
    "Great job! :D You're finished with lab 4! Be sure to...\n",
    "- **run all the tests and verify that they all pass** (the next cell has a shortcut for that), \n",
    "- **Review the notebook one last time, we will be grading the final state of your notebook after the deadline**,\n",
    "- **Save and Checkpoint** from the `File` menu,"
   ]
  }
 ],
 "metadata": {
  "anaconda-cloud": {},
  "kernelspec": {
   "display_name": "Python 3",
   "language": "python",
   "name": "python3"
  },
  "language_info": {
   "codemirror_mode": {
    "name": "ipython",
    "version": 3
   },
   "file_extension": ".py",
   "mimetype": "text/x-python",
   "name": "python",
   "nbconvert_exporter": "python",
   "pygments_lexer": "ipython3",
   "version": "3.6.5"
  }
 },
 "nbformat": 4,
 "nbformat_minor": 1
}
